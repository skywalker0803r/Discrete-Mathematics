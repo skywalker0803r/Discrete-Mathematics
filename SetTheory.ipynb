{
  "nbformat": 4,
  "nbformat_minor": 0,
  "metadata": {
    "colab": {
      "provenance": [],
      "authorship_tag": "ABX9TyPaGNXmia7sinLTIsXauekr",
      "include_colab_link": true
    },
    "kernelspec": {
      "name": "python3",
      "display_name": "Python 3"
    },
    "language_info": {
      "name": "python"
    }
  },
  "cells": [
    {
      "cell_type": "markdown",
      "metadata": {
        "id": "view-in-github",
        "colab_type": "text"
      },
      "source": [
        "<a href=\"https://colab.research.google.com/github/skywalker0803r/Discrete-Mathematics/blob/main/SetTheory.ipynb\" target=\"_parent\"><img src=\"https://colab.research.google.com/assets/colab-badge.svg\" alt=\"Open In Colab\"/></a>"
      ]
    },
    {
      "cell_type": "code",
      "source": [
        "A = {1, 2, 3, 3}\n",
        "B = {3, 4, 5}\n",
        "\n",
        "print(\"A =\", A)           # 自動去重\n",
        "print(\"聯集 A ∪ B =\", A | B)\n",
        "print(\"交集 A ∩ B =\", A & B)\n",
        "print(\"差集 A - B =\", A - B)\n"
      ],
      "metadata": {
        "colab": {
          "base_uri": "https://localhost:8080/"
        },
        "id": "RE46EtUMy9OM",
        "outputId": "a093cb70-4632-40c5-c117-4cb19e9d99c2"
      },
      "execution_count": 12,
      "outputs": [
        {
          "output_type": "stream",
          "name": "stdout",
          "text": [
            "A = {1, 2, 3}\n",
            "聯集 A ∪ B = {1, 2, 3, 4, 5}\n",
            "交集 A ∩ B = {3}\n",
            "差集 A - B = {1, 2}\n"
          ]
        }
      ]
    },
    {
      "cell_type": "code",
      "source": [
        "A = {1, 2}\n",
        "B = {1, 2, 3}\n",
        "\n",
        "print(A.issubset(B))   # True\n"
      ],
      "metadata": {
        "colab": {
          "base_uri": "https://localhost:8080/"
        },
        "id": "3G4GlAIly9Q5",
        "outputId": "904c3b50-e306-41cf-d7d8-b5ede2d0823f"
      },
      "execution_count": 13,
      "outputs": [
        {
          "output_type": "stream",
          "name": "stdout",
          "text": [
            "True\n"
          ]
        }
      ]
    },
    {
      "cell_type": "code",
      "source": [
        "X = {1, 2}\n",
        "Y = {1, 2, 3}\n",
        "Z = {1, 4}"
      ],
      "metadata": {
        "id": "mgABMv9Ny9Tx"
      },
      "execution_count": 14,
      "outputs": []
    },
    {
      "cell_type": "markdown",
      "source": [
        "請你試著回答：以下哪些是「子集合」？（用 True / False）\n",
        "\n",
        "X ⊆ Y = ?\n",
        "\n",
        "Z ⊆ Y = ?\n",
        "\n",
        "Y ⊆ X = ?"
      ],
      "metadata": {
        "id": "zEnSXKtd1A-d"
      }
    },
    {
      "cell_type": "code",
      "source": [
        "print(X.issubset(Y))\n",
        "print(Z.issubset(Y))\n",
        "print(Y.issubset(X))"
      ],
      "metadata": {
        "colab": {
          "base_uri": "https://localhost:8080/"
        },
        "id": "kRhJMkCG1BXh",
        "outputId": "f83effdd-3eac-43e4-b872-ddbf8f55936a"
      },
      "execution_count": 17,
      "outputs": [
        {
          "output_type": "stream",
          "name": "stdout",
          "text": [
            "True\n",
            "False\n",
            "False\n"
          ]
        }
      ]
    },
    {
      "cell_type": "code",
      "source": [
        "A = {1, 2}\n",
        "B = {1, 2, 3}\n",
        "print(A < B)     # True，表示 A 是 B 的真子集合\n",
        "print(A <= B)    # True，表示 A 是 B 的子集合（包含相等）\n"
      ],
      "metadata": {
        "colab": {
          "base_uri": "https://localhost:8080/"
        },
        "id": "vai4EORU1F3B",
        "outputId": "40c18100-6eac-49f1-ea7d-b30de199bd27"
      },
      "execution_count": 18,
      "outputs": [
        {
          "output_type": "stream",
          "name": "stdout",
          "text": [
            "True\n",
            "True\n"
          ]
        }
      ]
    },
    {
      "cell_type": "code",
      "source": [
        "A = {1, 2}\n",
        "B = {1, 2}\n",
        "C = {1, 2, 3}"
      ],
      "metadata": {
        "id": "zmdTxoLn1Ttq"
      },
      "execution_count": 19,
      "outputs": []
    },
    {
      "cell_type": "markdown",
      "source": [
        "請你回答：\n",
        "\n",
        "A < B = ?\n",
        "\n",
        "A < C = ?\n",
        "\n",
        "B <= A = ?"
      ],
      "metadata": {
        "id": "7QtFyIrm1VN1"
      }
    },
    {
      "cell_type": "code",
      "source": [
        "print(A < B)\n",
        "print(A < C)\n",
        "print(B <= A)"
      ],
      "metadata": {
        "colab": {
          "base_uri": "https://localhost:8080/"
        },
        "id": "6gZ656NI1VjT",
        "outputId": "3a430ca1-d2ed-44d6-a972-12bf84f371d9"
      },
      "execution_count": 22,
      "outputs": [
        {
          "output_type": "stream",
          "name": "stdout",
          "text": [
            "False\n",
            "True\n",
            "True\n"
          ]
        }
      ]
    },
    {
      "cell_type": "markdown",
      "source": [
        "# 集合的笛卡兒積（Cartesian Product）"
      ],
      "metadata": {
        "id": "QwM_QigH1lGo"
      }
    },
    {
      "cell_type": "markdown",
      "source": [
        "✏️ 什麼是笛卡兒積？\n",
        "給定兩個集合 A 和 B，笛卡兒積 A × B 是所有可能的「有序對 (a, b)」的集合，其中：\n",
        "\n",
        "a ∈ A\n",
        "\n",
        "b ∈ B\n",
        "\n",
        "也就是：\n",
        "\n",
        "每個 A 的元素配上每個 B 的元素"
      ],
      "metadata": {
        "id": "jwhytJew1wzR"
      }
    },
    {
      "cell_type": "markdown",
      "source": [
        "A = {1, 2}\n",
        "B = {'x', 'y'}\n",
        "\n",
        "A × B = {\n",
        "    (1, 'x'),\n",
        "    (1, 'y'),\n",
        "    (2, 'x'),\n",
        "    (2, 'y')\n",
        "}\n"
      ],
      "metadata": {
        "id": "DbURemY-11zG"
      }
    },
    {
      "cell_type": "code",
      "source": [
        "from itertools import product\n",
        "\n",
        "A = {1, 2}\n",
        "B = {'x', 'y'}\n",
        "\n",
        "cartesian = list(product(A, B))\n",
        "print(cartesian)\n"
      ],
      "metadata": {
        "colab": {
          "base_uri": "https://localhost:8080/"
        },
        "id": "Tc46k35G1ZJy",
        "outputId": "e1cf2fa4-12d6-4e78-88b7-f8cdc480ccad"
      },
      "execution_count": 24,
      "outputs": [
        {
          "output_type": "stream",
          "name": "stdout",
          "text": [
            "[(1, 'y'), (1, 'x'), (2, 'y'), (2, 'x')]\n"
          ]
        }
      ]
    },
    {
      "cell_type": "markdown",
      "source": [
        "請你完成以下任務：\n",
        "\n",
        "定義集合 X = {10, 20} 和 Y = {'a', 'b', 'c'}\n",
        "\n",
        "印出 X × Y 的所有有序對"
      ],
      "metadata": {
        "id": "rowamTL218OT"
      }
    },
    {
      "cell_type": "code",
      "source": [
        "X = {10, 20}\n",
        "Y = {'a', 'b', 'c'}\n",
        "cartesian = list(product(X, Y))\n",
        "print(cartesian)"
      ],
      "metadata": {
        "colab": {
          "base_uri": "https://localhost:8080/"
        },
        "id": "xIsfae0S18hh",
        "outputId": "6d117024-91e4-40cd-b953-5b20339b540e"
      },
      "execution_count": 25,
      "outputs": [
        {
          "output_type": "stream",
          "name": "stdout",
          "text": [
            "[(10, 'a'), (10, 'c'), (10, 'b'), (20, 'a'), (20, 'c'), (20, 'b')]\n"
          ]
        }
      ]
    },
    {
      "cell_type": "markdown",
      "source": [
        "元素A的數量為m 元素B的數量為n 則笛卡兒積大小為mxn"
      ],
      "metadata": {
        "id": "OVpL327j2ZQ5"
      }
    },
    {
      "cell_type": "code",
      "source": [],
      "metadata": {
        "id": "aWCDpDmw2GD5"
      },
      "execution_count": null,
      "outputs": []
    }
  ]
}