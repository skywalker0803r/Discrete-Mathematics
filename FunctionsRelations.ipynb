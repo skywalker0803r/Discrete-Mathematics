{
  "nbformat": 4,
  "nbformat_minor": 0,
  "metadata": {
    "colab": {
      "provenance": [],
      "authorship_tag": "ABX9TyPuPZsS/GlLSj84qq6VA17J",
      "include_colab_link": true
    },
    "kernelspec": {
      "name": "python3",
      "display_name": "Python 3"
    },
    "language_info": {
      "name": "python"
    }
  },
  "cells": [
    {
      "cell_type": "markdown",
      "metadata": {
        "id": "view-in-github",
        "colab_type": "text"
      },
      "source": [
        "<a href=\"https://colab.research.google.com/github/skywalker0803r/Discrete-Mathematics/blob/main/FunctionsRelations.ipynb\" target=\"_parent\"><img src=\"https://colab.research.google.com/assets/colab-badge.svg\" alt=\"Open In Colab\"/></a>"
      ]
    },
    {
      "cell_type": "markdown",
      "source": [
        "「朋友關係」的例子\n",
        "假設我們有一組人：\n",
        "集合 P = {Alice, Bob, Carol}\n",
        "\n",
        "朋友關係，就是「誰是誰的朋友」，可以想成：\n",
        "\n",
        "(Alice, Bob) 表示 Alice 和 Bob 是朋友\n",
        "\n",
        "(Bob, Carol) 表示 Bob 和 Carol 是朋友\n",
        "\n",
        "(Carol, Alice) 表示 Carol 和 Alice 是朋友\n",
        "\n",
        "所以朋友關係就可以用「有序對」的集合來表示："
      ],
      "metadata": {
        "id": "Q8tdz1tm3CO9"
      }
    },
    {
      "cell_type": "markdown",
      "source": [
        "重要：\n",
        "關係就是「從一個集合的元素，配對到另一個集合（或同一集合）的元素」，這些配對都放在一個集合裡。"
      ],
      "metadata": {
        "id": "LPKZqVTA3F7c"
      }
    },
    {
      "cell_type": "markdown",
      "source": [
        "問你：\n",
        "如果朋友關係是雙向的（也就是 Alice 是 Bob 的朋友，那 Bob 也是 Alice 的朋友），你覺得集合裡還要加哪些元素？\n",
        "\n",
        "（試著用有序對表示）"
      ],
      "metadata": {
        "id": "NBaUFKio3Mz2"
      }
    },
    {
      "cell_type": "markdown",
      "source": [
        "# 單向朋友關係"
      ],
      "metadata": {
        "id": "eWI5rX7O3Wpo"
      }
    },
    {
      "cell_type": "code",
      "source": [
        "friends = {('Alice', 'Bob'), ('Bob', 'Carol'), ('Carol', 'Alice')}"
      ],
      "metadata": {
        "id": "spUtQJxA3CnZ"
      },
      "execution_count": 26,
      "outputs": []
    },
    {
      "cell_type": "markdown",
      "source": [
        "# 雙向朋友關係"
      ],
      "metadata": {
        "id": "MQuu4W8C3Y-y"
      }
    },
    {
      "cell_type": "code",
      "source": [
        "friends = {\n",
        "    ('Alice', 'Bob'), ('Bob', 'Alice'),\n",
        "    ('Bob', 'Carol'), ('Carol', 'Bob'),\n",
        "    ('Carol', 'Alice'), ('Alice', 'Carol')\n",
        "}\n"
      ],
      "metadata": {
        "id": "2EmbFvew3YRy"
      },
      "execution_count": 27,
      "outputs": []
    },
    {
      "cell_type": "markdown",
      "source": [
        "函數（Function）的定義\n",
        "函數是一種特殊的關係，它把每個集合 A 裡的元素，唯一對應到集合 B 裡的一個元素。\n",
        "\n",
        "換句話說，函數 f 從集合 A 映射到集合 B，記作：\n",
        "\n",
        "𝑓\n",
        ":\n",
        "𝐴\n",
        "→\n",
        "𝐵\n",
        "f:A→B\n",
        "對每個\n",
        "𝑎\n",
        "∈\n",
        "𝐴\n",
        "a∈A，對應一個唯一的\n",
        "𝑓\n",
        "(\n",
        "𝑎\n",
        ")\n",
        "∈\n",
        "𝐵\n",
        "f(a)∈B。"
      ],
      "metadata": {
        "id": "2et5JjuH3q6u"
      }
    },
    {
      "cell_type": "markdown",
      "source": [
        "小測試：\n",
        "下面哪一組配對可以是函數？為什麼？\n",
        "\n",
        "A)\n",
        "{\n",
        "(\n",
        "1\n",
        ",\n",
        "′\n",
        "𝑎\n",
        "′\n",
        ")\n",
        ",\n",
        "(\n",
        "2\n",
        ",\n",
        "′\n",
        "𝑏\n",
        "′\n",
        ")\n",
        ",\n",
        "(\n",
        "1\n",
        ",\n",
        "′\n",
        "𝑐\n",
        "′\n",
        ")\n",
        "}\n",
        "{(1,\n",
        "′\n",
        " a\n",
        "′\n",
        " ),(2,\n",
        "′\n",
        " b\n",
        "′\n",
        " ),(1,\n",
        "′\n",
        " c\n",
        "′\n",
        " )}\n",
        "B)\n",
        "{\n",
        "(\n",
        "1\n",
        ",\n",
        "′\n",
        "𝑎\n",
        "′\n",
        ")\n",
        ",\n",
        "(\n",
        "2\n",
        ",\n",
        "′\n",
        "𝑏\n",
        "′\n",
        ")\n",
        ",\n",
        "(\n",
        "3\n",
        ",\n",
        "′\n",
        "𝑐\n",
        "′\n",
        ")\n",
        "}\n",
        "{(1,\n",
        "′\n",
        " a\n",
        "′\n",
        " ),(2,\n",
        "′\n",
        " b\n",
        "′\n",
        " ),(3,\n",
        "′\n",
        " c\n",
        "′\n",
        " )}\n",
        "\n",
        "你先想想，告訴我答案，我們再一起分析！"
      ],
      "metadata": {
        "id": "UHJJKjFQ3uyT"
      }
    },
    {
      "cell_type": "markdown",
      "source": [
        "# 答案是B"
      ],
      "metadata": {
        "id": "ClwyZbz03zgd"
      }
    },
    {
      "cell_type": "markdown",
      "source": [
        "為什麼 B 是函數，而 A 不是？\n",
        "在 A 裡面，元素 1 同時對應到 'a' 和 'c'，違反了「每個輸入有且只有一個對應輸出」的規則。\n",
        "\n",
        "B 中每個輸入 1、2、3 都只對應一個輸出，符合函數的定義。"
      ],
      "metadata": {
        "id": "zC5jUybA33mC"
      }
    },
    {
      "cell_type": "markdown",
      "source": [
        "函數的三大性質\n",
        "1. 單射（Injective）\n",
        "不同的輸入，對應到不同的輸出。\n",
        "簡單說，就是不會有兩個不同的\n",
        "𝑎\n",
        "1\n",
        "≠\n",
        "𝑎\n",
        "2\n",
        "a\n",
        "1\n",
        "​\n",
        "\n",
        "\n",
        "=a\n",
        "2\n",
        "​\n",
        " ，結果\n",
        "𝑓\n",
        "(\n",
        "𝑎\n",
        "1\n",
        ")\n",
        "=\n",
        "𝑓\n",
        "(\n",
        "𝑎\n",
        "2\n",
        ")\n",
        "f(a\n",
        "1\n",
        "​\n",
        " )=f(a\n",
        "2\n",
        "​\n",
        " )。\n",
        "\n",
        "形象比喻：函數像一台機器，每個輸入都有專屬的不同「身份證號碼」，不會重複。\n",
        "\n",
        "2. 滿射（Surjective）\n",
        "函數的輸出覆蓋整個目標集合\n",
        "𝐵\n",
        "B。\n",
        "也就是說，對每個\n",
        "𝑏\n",
        "∈\n",
        "𝐵\n",
        "b∈B，至少有一個\n",
        "𝑎\n",
        "∈\n",
        "𝐴\n",
        "a∈A 使得\n",
        "𝑓\n",
        "(\n",
        "𝑎\n",
        ")\n",
        "=\n",
        "𝑏\n",
        "f(a)=b。\n",
        "\n",
        "比喻：目標集合裡的每個元素，都被函數「找到」過。\n",
        "\n",
        "3. 雙射（Bijective）\n",
        "同時是單射又是滿射。\n",
        "意味著函數在兩個集合間是一對一且全面的配對。\n",
        "\n",
        "簡單講：每個輸入有獨特對應的輸出，且所有輸出都被用到。\n",
        "\n",
        "範例：\n",
        "集合：\n",
        "\n",
        "𝐴\n",
        "=\n",
        "{\n",
        "1\n",
        ",\n",
        "2\n",
        ",\n",
        "3\n",
        "}\n",
        "A={1,2,3}\n",
        "\n",
        "𝐵\n",
        "=\n",
        "{\n",
        "𝑎\n",
        ",\n",
        "𝑏\n",
        ",\n",
        "𝑐\n",
        "}\n",
        "B={a,b,c}\n",
        "\n",
        "函數：\n",
        "\n",
        "𝑓\n",
        "=\n",
        "{\n",
        "(\n",
        "1\n",
        ",\n",
        "𝑎\n",
        ")\n",
        ",\n",
        "(\n",
        "2\n",
        ",\n",
        "𝑏\n",
        ")\n",
        ",\n",
        "(\n",
        "3\n",
        ",\n",
        "𝑐\n",
        ")\n",
        "}\n",
        "f={(1,a),(2,b),(3,c)}\n",
        "\n",
        "這是雙射，因為：\n",
        "\n",
        "不同輸入對應不同輸出（單射）\n",
        "\n",
        "輸出包含\n",
        "𝑎\n",
        ",\n",
        "𝑏\n",
        ",\n",
        "𝑐\n",
        "a,b,c（滿射）\n",
        "\n",
        "輕鬆小練習：\n",
        "函數\n",
        "𝑔\n",
        "=\n",
        "{\n",
        "(\n",
        "1\n",
        ",\n",
        "𝑎\n",
        ")\n",
        ",\n",
        "(\n",
        "2\n",
        ",\n",
        "𝑎\n",
        ")\n",
        ",\n",
        "(\n",
        "3\n",
        ",\n",
        "𝑏\n",
        ")\n",
        "}\n",
        "g={(1,a),(2,a),(3,b)}：\n",
        "\n",
        "它是單射嗎？\n",
        "\n",
        "它是滿射嗎？\n",
        "\n",
        "它是雙射嗎？\n",
        "\n",
        "你先試試看，我們一起分析！"
      ],
      "metadata": {
        "id": "AklRhpHW4Ps0"
      }
    },
    {
      "cell_type": "markdown",
      "source": [
        "函數\n",
        "𝑔\n",
        "=\n",
        "{\n",
        "(\n",
        "1\n",
        ",\n",
        "𝑎\n",
        ")\n",
        ",\n",
        "(\n",
        "2\n",
        ",\n",
        "𝑎\n",
        ")\n",
        ",\n",
        "(\n",
        "3\n",
        ",\n",
        "𝑏\n",
        ")\n",
        "}\n",
        "g={(1,a),(2,a),(3,b)} 是一個普通函數，但既不是單射，也不是滿射。\n",
        "\n",
        "簡單說：\n",
        "\n",
        "不是單射，因為不同輸入\n",
        "1\n",
        "1 和\n",
        "2\n",
        "2 映射到相同輸出\n",
        "𝑎\n",
        "a。\n",
        "\n",
        "不是滿射，因為目標集合中\n",
        "𝑐\n",
        "c 沒被映射到。"
      ],
      "metadata": {
        "id": "vP3N6w3b4kMB"
      }
    },
    {
      "cell_type": "code",
      "source": [
        "# 函數f用集合的有序對表示\n",
        "f = {(1, 'a'), (2, 'b'), (3, 'c')}\n",
        "\n",
        "# 目標集合B\n",
        "B = {'a', 'b', 'c'}\n"
      ],
      "metadata": {
        "id": "zOBXU6eZ3rXJ"
      },
      "execution_count": 28,
      "outputs": []
    },
    {
      "cell_type": "code",
      "source": [
        "def is_injective(f):\n",
        "    outputs = [y for (x, y) in f]        # 取出所有輸出值\n",
        "    return len(outputs) == len(set(outputs))  # 如果輸出數量和去重後的輸出數量相同，代表沒有重複\n",
        "g = {(1, 'a'), (2, 'a'), (3, 'b')}\n",
        "print(is_injective(g))  # 你覺得會輸出什麼？True 還是 False？\n"
      ],
      "metadata": {
        "colab": {
          "base_uri": "https://localhost:8080/"
        },
        "id": "SxIMVXNl4p4C",
        "outputId": "c78cd76c-8bc4-4823-f500-386c26e60c7f"
      },
      "execution_count": 30,
      "outputs": [
        {
          "output_type": "stream",
          "name": "stdout",
          "text": [
            "False\n"
          ]
        }
      ]
    },
    {
      "cell_type": "code",
      "source": [
        "def is_surjective(f, B):\n",
        "    outputs = {y for (x, y) in f}  # 用集合去掉重複輸出\n",
        "    return outputs == B            # 如果輸出集合等於目標集合，就是滿射\n",
        "print(is_surjective(g, B))  # 你覺得結果是 True 還是 False？\n"
      ],
      "metadata": {
        "colab": {
          "base_uri": "https://localhost:8080/"
        },
        "id": "aM8WlDCS43xd",
        "outputId": "6f2738c8-e18e-4e59-f78c-9730955ed288"
      },
      "execution_count": 33,
      "outputs": [
        {
          "output_type": "stream",
          "name": "stdout",
          "text": [
            "False\n"
          ]
        }
      ]
    },
    {
      "cell_type": "code",
      "source": [
        "def is_bijective(f, B):\n",
        "    return is_injective(f) and is_surjective(f, B)\n",
        "\n",
        "\n",
        "# 測試函數\n",
        "f1 = {(1, 'a'), (2, 'b'), (3, 'c')}\n",
        "g = {(1, 'a'), (2, 'a'), (3, 'b')}\n",
        "B = {'a', 'b', 'c'}\n",
        "print(\"g bijective?\", is_bijective(g, B))"
      ],
      "metadata": {
        "colab": {
          "base_uri": "https://localhost:8080/"
        },
        "id": "eh0QIM-35N4v",
        "outputId": "278eaf6e-998e-47cb-81f2-124a3f37993f"
      },
      "execution_count": 35,
      "outputs": [
        {
          "output_type": "stream",
          "name": "stdout",
          "text": [
            "g bijective? False\n"
          ]
        }
      ]
    },
    {
      "cell_type": "code",
      "source": [],
      "metadata": {
        "id": "tcHEEnLR5Xzy"
      },
      "execution_count": null,
      "outputs": []
    }
  ]
}