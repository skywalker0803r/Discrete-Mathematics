{
  "nbformat": 4,
  "nbformat_minor": 0,
  "metadata": {
    "colab": {
      "provenance": [],
      "authorship_tag": "ABX9TyN2pF+7PXKaRrUnEYFeZAGF",
      "include_colab_link": true
    },
    "kernelspec": {
      "name": "python3",
      "display_name": "Python 3"
    },
    "language_info": {
      "name": "python"
    }
  },
  "cells": [
    {
      "cell_type": "markdown",
      "metadata": {
        "id": "view-in-github",
        "colab_type": "text"
      },
      "source": [
        "<a href=\"https://colab.research.google.com/github/skywalker0803r/Discrete-Mathematics/blob/main/PigeonholePrinciple.ipynb\" target=\"_parent\"><img src=\"https://colab.research.google.com/assets/colab-badge.svg\" alt=\"Open In Colab\"/></a>"
      ]
    },
    {
      "cell_type": "markdown",
      "source": [
        "# Pigeonhole Principle"
      ],
      "metadata": {
        "id": "qdnrl4OS03kM"
      }
    },
    {
      "cell_type": "code",
      "source": [
        "# 鴿籠原理範例：\n",
        "# 將 n 個物品放入 m 個盒子中，會發生什麼？\n",
        "\n",
        "def pigeonhole_principle(items, boxes):\n",
        "    if items > boxes:\n",
        "        print(f\"有 {items} 個物品要放入 {boxes} 個盒子 => 根據鴿籠原理，至少有一個盒子會放超過 1 個物品。\")\n",
        "    else:\n",
        "        print(f\"有 {items} 個物品放入 {boxes} 個盒子，可以不重複地放好。\")\n",
        "\n",
        "# 測試\n",
        "pigeonhole_principle(13, 12)   # 13 個人，12 個月份\n",
        "pigeonhole_principle(10, 10)   # 10 個人，10 個位置\n",
        "pigeonhole_principle(5, 7)     # 5 個球，7 個盒子（沒問題）\n"
      ],
      "metadata": {
        "colab": {
          "base_uri": "https://localhost:8080/"
        },
        "id": "WxSM-kAh04HN",
        "outputId": "64ef1518-6f5e-4738-d26d-72cea12ed14f"
      },
      "execution_count": 1,
      "outputs": [
        {
          "output_type": "stream",
          "name": "stdout",
          "text": [
            "有 13 個物品要放入 12 個盒子 => 根據鴿籠原理，至少有一個盒子會放超過 1 個物品。\n",
            "有 10 個物品放入 10 個盒子，可以不重複地放好。\n",
            "有 5 個物品放入 7 個盒子，可以不重複地放好。\n"
          ]
        }
      ]
    }
  ]
}