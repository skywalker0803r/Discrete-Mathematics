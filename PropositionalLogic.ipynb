{
  "nbformat": 4,
  "nbformat_minor": 0,
  "metadata": {
    "colab": {
      "provenance": [],
      "authorship_tag": "ABX9TyNonzO6c+p7Vw/Ii5ekpdi/",
      "include_colab_link": true
    },
    "kernelspec": {
      "name": "python3",
      "display_name": "Python 3"
    },
    "language_info": {
      "name": "python"
    }
  },
  "cells": [
    {
      "cell_type": "markdown",
      "metadata": {
        "id": "view-in-github",
        "colab_type": "text"
      },
      "source": [
        "<a href=\"https://colab.research.google.com/github/skywalker0803r/Discrete-Mathematics/blob/main/PropositionalLogic.ipynb\" target=\"_parent\"><img src=\"https://colab.research.google.com/assets/colab-badge.svg\" alt=\"Open In Colab\"/></a>"
      ]
    },
    {
      "cell_type": "markdown",
      "source": [
        "# 單元 1：命題邏輯（Propositional Logic）"
      ],
      "metadata": {
        "id": "MgnrLrO0wctX"
      }
    },
    {
      "cell_type": "code",
      "execution_count": 7,
      "metadata": {
        "colab": {
          "base_uri": "https://localhost:8080/"
        },
        "id": "HplNHaldwPUI",
        "outputId": "0b12dc4c-2960-47f9-9e18-72da120a6b12"
      },
      "outputs": [
        {
          "output_type": "stream",
          "name": "stdout",
          "text": [
            "NOT p = False\n",
            "p AND q = False\n",
            "p OR q = True\n"
          ]
        }
      ],
      "source": [
        "# 定義兩個命題\n",
        "p = True   # 比如：今天下雨了\n",
        "q = False  # 比如：我帶傘了\n",
        "\n",
        "# 各種邏輯運算\n",
        "print(\"NOT p =\", not p)\n",
        "print(\"p AND q =\", p and q)\n",
        "print(\"p OR q =\", p or q)"
      ]
    },
    {
      "cell_type": "code",
      "source": [
        "a = False#（代表「我吃早餐了」是錯的）\n",
        "b = True#（代表「我準時到教室了」是真的）\n",
        "\n",
        "print(not a)\n",
        "print(a and b)\n",
        "print(a or b)\n",
        "print(not a and b)"
      ],
      "metadata": {
        "colab": {
          "base_uri": "https://localhost:8080/"
        },
        "id": "QIYHfSULw4rC",
        "outputId": "d146e2a5-9194-42b3-e8db-dab08256fc92"
      },
      "execution_count": 8,
      "outputs": [
        {
          "output_type": "stream",
          "name": "stdout",
          "text": [
            "True\n",
            "False\n",
            "True\n",
            "True\n"
          ]
        }
      ]
    },
    {
      "cell_type": "markdown",
      "source": [
        "# 蘊涵（Implication）"
      ],
      "metadata": {
        "id": "kiEl4HOlxO33"
      }
    },
    {
      "cell_type": "markdown",
      "source": [
        "假設你對別人說：\n",
        "\n",
        "「如果我準時到（p），我就會有座位（q）。」\n",
        "\n",
        "準時到？\t有座位？\t你有違背承諾嗎？\t蘊涵成立？\n",
        "\n",
        "✅ 是\t✅ 是\t沒違背\t✅ 成立\n",
        "\n",
        "✅ 是\t❌ 否\t有違背！（說了有座位，結果沒有）\t❌ 不成立\n",
        "\n",
        "❌ 否\t✅ 是\t沒承諾、不管了\t✅ 成立\n",
        "\n",
        "❌ 否\t❌ 否\t沒承諾、不管了\t✅ 成立"
      ],
      "metadata": {
        "id": "V1eJx-2_yjpI"
      }
    },
    {
      "cell_type": "code",
      "source": [
        "def implies(p, q):\n",
        "    return (not p) or q\n",
        "\n",
        "#請你模擬這個情境：\n",
        "#「如果我準時到（p），我就會有座位（q）」\n",
        "\n",
        "# 試試四種組合\n",
        "cases = [(True, True), (True, False), (False, True), (False, False)]\n",
        "\n",
        "for p, q in cases:\n",
        "    print(f\"p = {p}, q = {q} -> p → q = {implies(p, q)}\")\n"
      ],
      "metadata": {
        "colab": {
          "base_uri": "https://localhost:8080/"
        },
        "id": "ZFQrHZhaxEHT",
        "outputId": "4bdad572-6af3-4703-b21d-06f8b264db18"
      },
      "execution_count": 9,
      "outputs": [
        {
          "output_type": "stream",
          "name": "stdout",
          "text": [
            "p = True, q = True -> p → q = True\n",
            "p = True, q = False -> p → q = False\n",
            "p = False, q = True -> p → q = True\n",
            "p = False, q = False -> p → q = True\n"
          ]
        }
      ]
    },
    {
      "cell_type": "markdown",
      "source": [
        "# 邏輯等價（Logical Equivalence）"
      ],
      "metadata": {
        "id": "xqzJiqsky8aF"
      }
    },
    {
      "cell_type": "markdown",
      "source": [
        "✏️ 例子：\n",
        "\n",
        "命題 p → q 和 ¬p ∨ q 是完全等價的。\n",
        "\n",
        "也就是說：不管 p、q 是什麼，兩者的結果永遠一樣。\n",
        "\n",
        "🧠 你能想像為什麼嗎？\n",
        "\n",
        "回憶一下：\n",
        "\n",
        "p → q = \"如果 p 為真，q 也要為真\"\n",
        "\n",
        "而\n",
        "\n",
        "¬p ∨ q = \"要嘛 p 是假的，要嘛 q 是真的\"\n",
        "\n",
        "這兩句話其實意思一樣！"
      ],
      "metadata": {
        "id": "assFA0KhzCqF"
      }
    },
    {
      "cell_type": "markdown",
      "source": [
        "更直覺的理解方式：\n",
        "\n",
        "想像你說：\n",
        "\n",
        "「如果我吃早餐了（p），那我今天不會餓（q）」\n",
        "\n",
        "這就是 p → q\n",
        "\n",
        "現在我們改寫成：\n",
        "\n",
        "「要嘛我沒吃早餐（¬p），要嘛我今天不會餓（q）」\n",
        "\n",
        "這就是 ¬p ∨ q"
      ],
      "metadata": {
        "id": "GDfHSZHWz9V4"
      }
    },
    {
      "cell_type": "code",
      "source": [
        "def implies(p, q):\n",
        "    return (not p) or q\n",
        "\n",
        "def equivalent(p, q):\n",
        "    return p == q  # 判斷兩個命題結果是否相同\n",
        "\n",
        "# 測試所有可能組合\n",
        "for p in [True, False]:\n",
        "    for q in [True, False]:\n",
        "        left = implies(p, q)      # p → q\n",
        "        right = (not p) or q      # ¬p ∨ q\n",
        "        print(f\"p={p}, q={q} -> 等價？ {equivalent(left, right)}\")\n"
      ],
      "metadata": {
        "colab": {
          "base_uri": "https://localhost:8080/"
        },
        "id": "zLDQeIxjy8xx",
        "outputId": "84dcce67-87e4-4ef5-a9b7-ca0b77a6c940"
      },
      "execution_count": 11,
      "outputs": [
        {
          "output_type": "stream",
          "name": "stdout",
          "text": [
            "p=True, q=True -> 等價？ True\n",
            "p=True, q=False -> 等價？ True\n",
            "p=False, q=True -> 等價？ True\n",
            "p=False, q=False -> 等價？ True\n"
          ]
        }
      ]
    },
    {
      "cell_type": "code",
      "source": [],
      "metadata": {
        "id": "RE46EtUMy9OM"
      },
      "execution_count": null,
      "outputs": []
    },
    {
      "cell_type": "code",
      "source": [],
      "metadata": {
        "id": "3G4GlAIly9Q5"
      },
      "execution_count": null,
      "outputs": []
    },
    {
      "cell_type": "code",
      "source": [],
      "metadata": {
        "id": "mgABMv9Ny9Tx"
      },
      "execution_count": null,
      "outputs": []
    }
  ]
}