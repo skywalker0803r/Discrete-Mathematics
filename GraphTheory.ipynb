{
  "nbformat": 4,
  "nbformat_minor": 0,
  "metadata": {
    "colab": {
      "provenance": []
    },
    "kernelspec": {
      "name": "python3",
      "display_name": "Python 3"
    },
    "language_info": {
      "name": "python"
    }
  },
  "cells": [
    {
      "cell_type": "markdown",
      "source": [
        "1. 鄰接矩陣 (Adjacency Matrix)\n",
        "用二維陣列（list of lists）表示\n",
        "\n",
        "行列表示頂點，值表示兩點是否相連（權重圖則存權重）\n",
        "\n",
        "適合稠密圖（邊很多），查詢是否有邊很快 O(1)\n",
        "\n",
        "空間複雜度 O(V²)\n",
        "\n",
        "python\n",
        "複製\n",
        "編輯\n"
      ],
      "metadata": {
        "id": "dezBJQu53xvr"
      }
    },
    {
      "cell_type": "code",
      "execution_count": 2,
      "metadata": {
        "colab": {
          "base_uri": "https://localhost:8080/"
        },
        "id": "bTdiz8-Q3pCc",
        "outputId": "1434b5b7-e9e8-499f-d704-ea8d0585ad88"
      },
      "outputs": [
        {
          "output_type": "stream",
          "name": "stdout",
          "text": [
            "1\n",
            "[[0, 1, 0, 0], [1, 0, 1, 1], [0, 1, 0, 1], [0, 1, 1, 0]]\n"
          ]
        }
      ],
      "source": [
        "# 範例：無向無權圖，頂點0~3\n",
        "adj_matrix = [\n",
        "    [0, 1, 0, 0],  # 頂點0與頂點1相連\n",
        "    [1, 0, 1, 1],  # 頂點1與頂點0,2,3相連\n",
        "    [0, 1, 0, 0],  # 頂點2與頂點1相連\n",
        "    [0, 1, 0, 0]   # 頂點3與頂點1相連\n",
        "]\n",
        "\n",
        "# 查詢頂點0和頂點1是否相連\n",
        "print(adj_matrix[0][1])  # 輸出: 1 (相連)\n",
        "\n",
        "# 新增邊(頂點2到頂點3)\n",
        "adj_matrix[2][3] = 1\n",
        "adj_matrix[3][2] = 1\n",
        "\n",
        "print(adj_matrix)\n"
      ]
    }
  ]
}